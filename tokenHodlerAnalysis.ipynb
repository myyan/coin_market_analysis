{
 "cells": [
  {
   "cell_type": "code",
   "execution_count": 26,
   "metadata": {},
   "outputs": [
    {
     "name": "stdout",
     "output_type": "stream",
     "text": [
      "https://etherscan.io/token/generic-tokenholders2?a=0xa4e8c3ec456107ea67d3075bf9e3df3a75823db0&s=1E%2b28&p=1\n"
     ]
    }
   ],
   "source": [
    "import requests\n",
    "from bs4 import BeautifulSoup\n",
    "class TokenHolder:\n",
    "    \n",
    "    def __init__(self,rank,address,balance,percentages):\n",
    "        self.rank = rank\n",
    "        self.address = address\n",
    "        self.balance = balance\n",
    "        self.percentages = percentages\n",
    "        \n",
    "    def __str__(self):\n",
    "        return str(self.__dict__)\n",
    "    \n",
    "\n",
    "contract_address = \"0xa4e8c3ec456107ea67d3075bf9e3df3a75823db0\"\n",
    "url_prefix = \"https://etherscan.io/token/generic-tokenholders2?a=\"\n",
    "url_suffix = \"&s=1E%2b28&p=\"\n",
    "page = \"1\";\n",
    "request_url = url_prefix + contract_address + url_suffix + page;\n",
    "print(request_url)\n",
    "page = requests.get(request_url)\n",
    "soup = BeautifulSoup(page.content, 'html.parser')\n"
   ]
  },
  {
   "cell_type": "code",
   "execution_count": 27,
   "metadata": {},
   "outputs": [
    {
     "name": "stdout",
     "output_type": "stream",
     "text": [
      "82.56599999999997%\n",
      "37.275%\n",
      "{'rank': '1', 'address': '0xff84ba8e8592eabc25fb99ba8775fa2a0e4c9cec', 'balance': '244443479.53', 'percentages': '2.4444%'}\n"
     ]
    }
   ],
   "source": [
    "total = 0.0;\n",
    "for row in soup.find_all('tr')[1:]:\n",
    "    pecentage = str(row.find_all(\"td\")[3].text)\n",
    "    a = pecentage.replace(\"%\",\"\");\n",
    "    b = float(a)\n",
    "    total = total + b \n",
    "print(str(total*10)+\"%\")\n",
    "\n",
    "\n",
    "def getTopNSumPercentage(n):\n",
    "    total = 0.0\n",
    "    index = 1\n",
    "    if n > 50:\n",
    "        n = 50\n",
    "    if n < 0:\n",
    "        n = 50\n",
    "    for row in soup.find_all('tr')[1:]:\n",
    "        if index > n:\n",
    "            break\n",
    "        pecentages = str(row.find_all(\"td\")[3].text)\n",
    "        a = pecentages.replace(\"%\",\"\");\n",
    "        b = float(a)\n",
    "        total = total + b \n",
    "        index = index + 1\n",
    "    return str(total*10) + \"%\"\n",
    "\n",
    "\n",
    "def getRankNDetail(n):\n",
    "    total = 0.0\n",
    "    index = 1\n",
    "    if n > 50:\n",
    "        n = 50\n",
    "    if n < 0:\n",
    "        n = 50\n",
    "    row = soup.find_all('tr')[n]\n",
    "    return getRowDetail(row)\n",
    "\n",
    "def getRowDetail(row):\n",
    "    rowInfo = row.find_all(\"td\")\n",
    "    rank = rowInfo[0].text\n",
    "    address = rowInfo[1].text\n",
    "    balance = rowInfo[2].text\n",
    "    percentages = rowInfo[3].text\n",
    "    return TokenHolder(rank,address,balance,percentages)\n",
    "    for td in row.find_all(\"td\"):\n",
    "        print(td.text)\n",
    "    \n",
    "\n",
    "print(getTopNSumPercentage(3))\n",
    "print(getRankNDetail(1))\n",
    "    "
   ]
  },
  {
   "cell_type": "code",
   "execution_count": null,
   "metadata": {
    "collapsed": true
   },
   "outputs": [],
   "source": []
  },
  {
   "cell_type": "code",
   "execution_count": null,
   "metadata": {},
   "outputs": [],
   "source": []
  },
  {
   "cell_type": "code",
   "execution_count": null,
   "metadata": {
    "collapsed": true
   },
   "outputs": [],
   "source": []
  },
  {
   "cell_type": "code",
   "execution_count": null,
   "metadata": {
    "collapsed": true
   },
   "outputs": [],
   "source": []
  },
  {
   "cell_type": "code",
   "execution_count": null,
   "metadata": {
    "collapsed": true
   },
   "outputs": [],
   "source": []
  },
  {
   "cell_type": "code",
   "execution_count": null,
   "metadata": {
    "collapsed": true
   },
   "outputs": [],
   "source": []
  },
  {
   "cell_type": "code",
   "execution_count": null,
   "metadata": {
    "collapsed": true
   },
   "outputs": [],
   "source": []
  },
  {
   "cell_type": "code",
   "execution_count": null,
   "metadata": {},
   "outputs": [],
   "source": []
  },
  {
   "cell_type": "code",
   "execution_count": null,
   "metadata": {
    "collapsed": true
   },
   "outputs": [],
   "source": []
  },
  {
   "cell_type": "code",
   "execution_count": null,
   "metadata": {
    "collapsed": true
   },
   "outputs": [],
   "source": []
  },
  {
   "cell_type": "code",
   "execution_count": null,
   "metadata": {
    "collapsed": true
   },
   "outputs": [],
   "source": []
  },
  {
   "cell_type": "code",
   "execution_count": null,
   "metadata": {
    "collapsed": true
   },
   "outputs": [],
   "source": []
  },
  {
   "cell_type": "code",
   "execution_count": null,
   "metadata": {
    "collapsed": true
   },
   "outputs": [],
   "source": []
  },
  {
   "cell_type": "code",
   "execution_count": null,
   "metadata": {
    "collapsed": true
   },
   "outputs": [],
   "source": []
  },
  {
   "cell_type": "code",
   "execution_count": null,
   "metadata": {
    "collapsed": true
   },
   "outputs": [],
   "source": []
  },
  {
   "cell_type": "code",
   "execution_count": null,
   "metadata": {
    "collapsed": true
   },
   "outputs": [],
   "source": []
  },
  {
   "cell_type": "code",
   "execution_count": null,
   "metadata": {
    "collapsed": true
   },
   "outputs": [],
   "source": []
  },
  {
   "cell_type": "code",
   "execution_count": null,
   "metadata": {
    "collapsed": true
   },
   "outputs": [],
   "source": []
  },
  {
   "cell_type": "code",
   "execution_count": null,
   "metadata": {
    "collapsed": true
   },
   "outputs": [],
   "source": []
  },
  {
   "cell_type": "code",
   "execution_count": null,
   "metadata": {
    "collapsed": true
   },
   "outputs": [],
   "source": []
  },
  {
   "cell_type": "code",
   "execution_count": null,
   "metadata": {
    "collapsed": true
   },
   "outputs": [],
   "source": []
  },
  {
   "cell_type": "code",
   "execution_count": null,
   "metadata": {
    "collapsed": true
   },
   "outputs": [],
   "source": []
  },
  {
   "cell_type": "code",
   "execution_count": null,
   "metadata": {
    "collapsed": true
   },
   "outputs": [],
   "source": []
  },
  {
   "cell_type": "code",
   "execution_count": null,
   "metadata": {
    "collapsed": true
   },
   "outputs": [],
   "source": []
  },
  {
   "cell_type": "code",
   "execution_count": null,
   "metadata": {
    "collapsed": true
   },
   "outputs": [],
   "source": []
  },
  {
   "cell_type": "code",
   "execution_count": null,
   "metadata": {
    "collapsed": true
   },
   "outputs": [],
   "source": []
  },
  {
   "cell_type": "code",
   "execution_count": null,
   "metadata": {
    "collapsed": true
   },
   "outputs": [],
   "source": []
  },
  {
   "cell_type": "code",
   "execution_count": null,
   "metadata": {
    "collapsed": true
   },
   "outputs": [],
   "source": []
  }
 ],
 "metadata": {
  "kernelspec": {
   "display_name": "Python 3",
   "language": "python",
   "name": "python3"
  },
  "language_info": {
   "codemirror_mode": {
    "name": "ipython",
    "version": 3
   },
   "file_extension": ".py",
   "mimetype": "text/x-python",
   "name": "python",
   "nbconvert_exporter": "python",
   "pygments_lexer": "ipython3",
   "version": "3.6.3"
  }
 },
 "nbformat": 4,
 "nbformat_minor": 2
}
