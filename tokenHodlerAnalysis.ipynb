{
 "cells": [
  {
   "cell_type": "code",
   "execution_count": 30,
   "metadata": {},
   "outputs": [
    {
     "name": "stdout",
     "output_type": "stream",
     "text": [
      "https://etherscan.io/token/generic-tokenholders2?a=0x86fa049857e0209aa7d9e616f7eb3b3b78ecfdb0&s=1E%2b28&p=1\n"
     ]
    }
   ],
   "source": [
    "import requests\n",
    "from bs4 import BeautifulSoup\n",
    "class TokenHolder:\n",
    "    \n",
    "    def __init__(self,rank,address,balance,percentages):\n",
    "        self.rank = rank\n",
    "        self.address = address\n",
    "        self.balance = balance\n",
    "        self.percentages = percentages\n",
    "        \n",
    "    def __str__(self):\n",
    "        return str(self.__dict__)\n",
    "    \n",
    "\n",
    "contract_address = \"0x86fa049857e0209aa7d9e616f7eb3b3b78ecfdb0\"\n",
    "url_prefix = \"https://etherscan.io/token/generic-tokenholders2?a=\"\n",
    "url_suffix = \"&s=1E%2b28&p=\"\n",
    "page = \"1\";\n",
    "request_url = url_prefix + contract_address + url_suffix + page;\n",
    "print(request_url)\n",
    "page = requests.get(request_url)\n",
    "soup = BeautifulSoup(page.content, 'html.parser')\n"
   ]
  },
  {
   "cell_type": "code",
   "execution_count": null,
   "metadata": {
    "collapsed": true
   },
   "outputs": [],
   "source": []
  },
  {
   "cell_type": "code",
   "execution_count": 36,
   "metadata": {},
   "outputs": [
    {
     "name": "stdout",
     "output_type": "stream",
     "text": [
      "63.49499999999999%\n",
      "21.299999999999997%\n",
      "{'rank': '1', 'address': '0x00000000000000000000000000000000000000b1', 'balance': '100000000', 'percentages': '10.0%'}\n"
     ]
    }
   ],
   "source": [
    "total = 0.0;\n",
    "for row in soup.find_all('tr')[1:]:\n",
    "    pecentage = str(row.find_all(\"td\")[3].text)\n",
    "    a = pecentage.replace(\"%\",\"\");\n",
    "    b = float(a)\n",
    "    total = total + b \n",
    "print(str(total*10)+\"%\")\n",
    "\n",
    "\n",
    "def getTopNSumPercentage(n):\n",
    "    total = 0.0\n",
    "    index = 1\n",
    "    if n > 50:\n",
    "        n = 50\n",
    "    if n < 0:\n",
    "        n = 50\n",
    "    for row in soup.find_all('tr')[1:]:\n",
    "        if index > n:\n",
    "            break\n",
    "        percentages = str(row.find_all(\"td\")[3].text)\n",
    "        b = mapToFloat(percentages)\n",
    "        total = total + b \n",
    "        index = index + 1\n",
    "    return str(total*10) + \"%\"\n",
    "\n",
    "\n",
    "def getRankNDetail(n):\n",
    "    total = 0.0\n",
    "    index = 1\n",
    "    if n > 50:\n",
    "        n = 50\n",
    "    if n < 0:\n",
    "        n = 50\n",
    "    row = soup.find_all('tr')[n]\n",
    "    return getRowDetail(row)\n",
    "\n",
    "def getRowDetail(row):\n",
    "    rowInfo = row.find_all(\"td\")\n",
    "    rank = rowInfo[0].text\n",
    "    address = rowInfo[1].text\n",
    "    balance = rowInfo[2].text\n",
    "    percentages = rowInfo[3].text\n",
    "    return TokenHolder(rank,address,balance,formatPercentages(percentages))\n",
    "    for td in row.find_all(\"td\"):\n",
    "        print(td.text)\n",
    "\n",
    "def formatPercentages(n):\n",
    "    new =  float(n.replace(\"%\",\"\"))\n",
    "    return str(new*10)+\"%\";\n",
    "\n",
    "def mapToFloat(n):\n",
    "    return  float(n.replace(\"%\",\"\"))\n",
    "\n",
    "    \n",
    "\n",
    "print(getTopNSumPercentage(3))\n",
    "print(getRankNDetail(1))\n",
    "    "
   ]
  },
  {
   "cell_type": "code",
   "execution_count": null,
   "metadata": {
    "collapsed": true
   },
   "outputs": [],
   "source": []
  },
  {
   "cell_type": "code",
   "execution_count": null,
   "metadata": {
    "collapsed": true
   },
   "outputs": [],
   "source": []
  },
  {
   "cell_type": "code",
   "execution_count": null,
   "metadata": {
    "collapsed": true
   },
   "outputs": [],
   "source": []
  },
  {
   "cell_type": "code",
   "execution_count": null,
   "metadata": {
    "collapsed": true
   },
   "outputs": [],
   "source": []
  },
  {
   "cell_type": "code",
   "execution_count": null,
   "metadata": {
    "collapsed": true
   },
   "outputs": [],
   "source": []
  },
  {
   "cell_type": "code",
   "execution_count": null,
   "metadata": {
    "collapsed": true
   },
   "outputs": [],
   "source": []
  },
  {
   "cell_type": "code",
   "execution_count": null,
   "metadata": {
    "collapsed": true
   },
   "outputs": [],
   "source": []
  },
  {
   "cell_type": "code",
   "execution_count": null,
   "metadata": {
    "collapsed": true
   },
   "outputs": [],
   "source": []
  },
  {
   "cell_type": "code",
   "execution_count": null,
   "metadata": {
    "collapsed": true
   },
   "outputs": [],
   "source": []
  },
  {
   "cell_type": "code",
   "execution_count": null,
   "metadata": {},
   "outputs": [],
   "source": []
  },
  {
   "cell_type": "code",
   "execution_count": null,
   "metadata": {
    "collapsed": true
   },
   "outputs": [],
   "source": []
  },
  {
   "cell_type": "code",
   "execution_count": null,
   "metadata": {
    "collapsed": true
   },
   "outputs": [],
   "source": []
  },
  {
   "cell_type": "code",
   "execution_count": null,
   "metadata": {
    "collapsed": true
   },
   "outputs": [],
   "source": []
  },
  {
   "cell_type": "code",
   "execution_count": null,
   "metadata": {
    "collapsed": true
   },
   "outputs": [],
   "source": []
  },
  {
   "cell_type": "code",
   "execution_count": null,
   "metadata": {
    "collapsed": true
   },
   "outputs": [],
   "source": []
  },
  {
   "cell_type": "code",
   "execution_count": null,
   "metadata": {},
   "outputs": [],
   "source": []
  },
  {
   "cell_type": "code",
   "execution_count": null,
   "metadata": {
    "collapsed": true
   },
   "outputs": [],
   "source": []
  },
  {
   "cell_type": "code",
   "execution_count": null,
   "metadata": {
    "collapsed": true
   },
   "outputs": [],
   "source": []
  },
  {
   "cell_type": "code",
   "execution_count": null,
   "metadata": {
    "collapsed": true
   },
   "outputs": [],
   "source": []
  },
  {
   "cell_type": "code",
   "execution_count": null,
   "metadata": {
    "collapsed": true
   },
   "outputs": [],
   "source": []
  },
  {
   "cell_type": "code",
   "execution_count": null,
   "metadata": {
    "collapsed": true
   },
   "outputs": [],
   "source": []
  },
  {
   "cell_type": "code",
   "execution_count": null,
   "metadata": {
    "collapsed": true
   },
   "outputs": [],
   "source": []
  },
  {
   "cell_type": "code",
   "execution_count": null,
   "metadata": {
    "collapsed": true
   },
   "outputs": [],
   "source": []
  },
  {
   "cell_type": "code",
   "execution_count": null,
   "metadata": {
    "collapsed": true
   },
   "outputs": [],
   "source": []
  },
  {
   "cell_type": "code",
   "execution_count": null,
   "metadata": {
    "collapsed": true
   },
   "outputs": [],
   "source": []
  },
  {
   "cell_type": "code",
   "execution_count": null,
   "metadata": {
    "collapsed": true
   },
   "outputs": [],
   "source": []
  },
  {
   "cell_type": "code",
   "execution_count": null,
   "metadata": {
    "collapsed": true
   },
   "outputs": [],
   "source": []
  },
  {
   "cell_type": "code",
   "execution_count": null,
   "metadata": {
    "collapsed": true
   },
   "outputs": [],
   "source": []
  },
  {
   "cell_type": "code",
   "execution_count": null,
   "metadata": {
    "collapsed": true
   },
   "outputs": [],
   "source": []
  },
  {
   "cell_type": "code",
   "execution_count": null,
   "metadata": {
    "collapsed": true
   },
   "outputs": [],
   "source": []
  },
  {
   "cell_type": "code",
   "execution_count": null,
   "metadata": {
    "collapsed": true
   },
   "outputs": [],
   "source": []
  },
  {
   "cell_type": "code",
   "execution_count": null,
   "metadata": {
    "collapsed": true
   },
   "outputs": [],
   "source": []
  },
  {
   "cell_type": "code",
   "execution_count": null,
   "metadata": {
    "collapsed": true
   },
   "outputs": [],
   "source": []
  },
  {
   "cell_type": "code",
   "execution_count": null,
   "metadata": {
    "collapsed": true
   },
   "outputs": [],
   "source": []
  },
  {
   "cell_type": "code",
   "execution_count": null,
   "metadata": {
    "collapsed": true
   },
   "outputs": [],
   "source": []
  },
  {
   "cell_type": "code",
   "execution_count": null,
   "metadata": {
    "collapsed": true
   },
   "outputs": [],
   "source": []
  }
 ],
 "metadata": {
  "kernelspec": {
   "display_name": "Python 3",
   "language": "python",
   "name": "python3"
  },
  "language_info": {
   "codemirror_mode": {
    "name": "ipython",
    "version": 3
   },
   "file_extension": ".py",
   "mimetype": "text/x-python",
   "name": "python",
   "nbconvert_exporter": "python",
   "pygments_lexer": "ipython3",
   "version": "3.6.3"
  }
 },
 "nbformat": 4,
 "nbformat_minor": 2
}
