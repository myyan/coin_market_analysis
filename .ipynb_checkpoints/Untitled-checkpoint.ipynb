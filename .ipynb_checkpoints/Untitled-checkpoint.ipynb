{
 "cells": [
  {
   "cell_type": "code",
   "execution_count": 25,
   "metadata": {},
   "outputs": [
    {
     "name": "stdout",
     "output_type": "stream",
     "text": [
      "https://etherscan.io/token/generic-tokenholders2?a=0xa4e8c3ec456107ea67d3075bf9e3df3a75823db0&s=1E%2b28&p=1\n"
     ]
    }
   ],
   "source": [
    "import requests\n",
    "from bs4 import BeautifulSoup\n",
    "\n",
    " \n",
    "contract_address = \"0xa4e8c3ec456107ea67d3075bf9e3df3a75823db0\"\n",
    "url_prefix = \"https://etherscan.io/token/generic-tokenholders2?a=\"\n",
    "url_suffix = \"&s=1E%2b28&p=\"\n",
    "page = \"1\";\n",
    "request_url = url_prefix + contract_address + url_suffix + page;\n",
    "print(request_url)\n",
    "page = requests.get(request_url)\n",
    "soup = BeautifulSoup(page.content, 'html.parser')\n",
    "table = soup.find_all('tr')\n"
   ]
  },
  {
   "cell_type": "code",
   "execution_count": 26,
   "metadata": {},
   "outputs": [
    {
     "name": "stdout",
     "output_type": "stream",
     "text": [
      "[<tr>\n",
      "<th>Rank\n",
      "</th>\n",
      "<th>Address\n",
      "</th>\n",
      "<th>Quantity\n",
      "</th>\n",
      "<th>Percentage\n",
      "</th>\n",
      "</tr>, <tr><td>1</td><td><span><a href=\"/token/0xa4e8c3ec456107ea67d3075bf9e3df3a75823db0?a=0xff84ba8e8592eabc25fb99ba8775fa2a0e4c9cec\" target=\"_parent\">0xff84ba8e8592eabc25fb99ba8775fa2a0e4c9cec</a></span></td><td>244443479.53</td><td>2.4444%</td></tr>, <tr><td>2</td><td><span><a href=\"/token/0xa4e8c3ec456107ea67d3075bf9e3df3a75823db0?a=0xfe9e8709d3215310075d67e3ed32a380ccf451c8\" target=\"_parent\">0xfe9e8709d3215310075d67e3ed32a380ccf451c8</a></span></td><td>81574775.7055102</td><td>0.8157%</td></tr>, <tr><td>3</td><td><span><a href=\"/token/0xa4e8c3ec456107ea67d3075bf9e3df3a75823db0?a=0xc5597222eeb40cc40cdcb625b339c7510e36c07a\" target=\"_parent\">0xc5597222eeb40cc40cdcb625b339c7510e36c07a</a></span></td><td>46740306.6666667</td><td>0.4674%</td></tr>, <tr><td>4</td><td><span><a href=\"/token/0xa4e8c3ec456107ea67d3075bf9e3df3a75823db0?a=0x86c04656c895bc8462952736755c6e0de8edfeb7\" target=\"_parent\">0x86c04656c895bc8462952736755c6e0de8edfeb7</a></span></td><td>42775679</td><td>0.4278%</td></tr>, <tr><td>5</td><td><span><a href=\"/token/0xa4e8c3ec456107ea67d3075bf9e3df3a75823db0?a=0x90f52ef734a32527198c96fede841a08253d56ab\" target=\"_parent\">0x90f52ef734a32527198c96fede841a08253d56ab</a></span></td><td>42016015.6666667</td><td>0.4202%</td></tr>, <tr><td>6</td><td><span><a href=\"/token/0xa4e8c3ec456107ea67d3075bf9e3df3a75823db0?a=0x5317feae71d94e7b0fae527327e332f114c6e088\" target=\"_parent\">0x5317feae71d94e7b0fae527327e332f114c6e088</a></span></td><td>31250000</td><td>0.3125%</td></tr>, <tr><td>7</td><td><span><a href=\"/token/0xa4e8c3ec456107ea67d3075bf9e3df3a75823db0?a=0x0b5b734f911dd7506ab4cd735425b21b574d9fb8\" target=\"_parent\">0x0b5b734f911dd7506ab4cd735425b21b574d9fb8</a></span></td><td>31011213.795758</td><td>0.3101%</td></tr>, <tr><td>8</td><td><span><a href=\"/token/0xa4e8c3ec456107ea67d3075bf9e3df3a75823db0?a=0x001866ae5b3de6caa5a51543fd9fb64f524f5478\" target=\"_parent\">0x001866ae5b3de6caa5a51543fd9fb64f524f5478</a></span></td><td>30000000</td><td>0.3000%</td></tr>, <tr><td>9</td><td><span><a href=\"/token/0xa4e8c3ec456107ea67d3075bf9e3df3a75823db0?a=0x2b5634c42055806a59e9107ed44d43c426e58258\" target=\"_parent\">0x2b5634c42055806a59e9107ed44d43c426e58258</a></span></td><td>29029152.9474088</td><td>0.2903%</td></tr>, <tr><td>10</td><td><span><a href=\"/token/0xa4e8c3ec456107ea67d3075bf9e3df3a75823db0?a=0xe4768d4f06286b9693b4cfb64e38de16eb0a8920\" target=\"_parent\">0xe4768d4f06286b9693b4cfb64e38de16eb0a8920</a></span></td><td>25000000</td><td>0.2500%</td></tr>, <tr><td>11</td><td><span><a href=\"/token/0xa4e8c3ec456107ea67d3075bf9e3df3a75823db0?a=0x6624e6066f63bfcb453f608682b152e2cafd178c\" target=\"_parent\">0x6624e6066f63bfcb453f608682b152e2cafd178c</a></span></td><td>22261121.279753</td><td>0.2226%</td></tr>, <tr><td>12</td><td><span><a href=\"/token/0xa4e8c3ec456107ea67d3075bf9e3df3a75823db0?a=0x3f5ce5fbfe3e9af3971dd833d26ba9b5c936f0be\" target=\"_parent\">0x3f5ce5fbfe3e9af3971dd833d26ba9b5c936f0be</a></span></td><td>21997045.7445954</td><td>0.2200%</td></tr>, <tr><td>13</td><td><span><a href=\"/token/0xa4e8c3ec456107ea67d3075bf9e3df3a75823db0?a=0x855f76bc49b9b8e5fe94e32694e3894ccdaf0906\" target=\"_parent\">0x855f76bc49b9b8e5fe94e32694e3894ccdaf0906</a></span></td><td>19057702.9151139</td><td>0.1906%</td></tr>, <tr><td>14</td><td><span><a href=\"/token/0xa4e8c3ec456107ea67d3075bf9e3df3a75823db0?a=0x4b5c6931a80b0aaa649ddd6e12a1368a302d5694\" target=\"_parent\">0x4b5c6931a80b0aaa649ddd6e12a1368a302d5694</a></span></td><td>14404823</td><td>0.1440%</td></tr>, <tr><td>15</td><td><span><a href=\"/token/0xa4e8c3ec456107ea67d3075bf9e3df3a75823db0?a=0x333f738597fe25d0d395a8045318145b70c32027\" target=\"_parent\">0x333f738597fe25d0d395a8045318145b70c32027</a></span></td><td>12000000</td><td>0.1200%</td></tr>, <tr><td>16</td><td><span><a href=\"/token/0xa4e8c3ec456107ea67d3075bf9e3df3a75823db0?a=0x7681ae61f510293a2f62eb136aa801ab6aef9d99\" target=\"_parent\">0x7681ae61f510293a2f62eb136aa801ab6aef9d99</a></span></td><td>10779966.0221</td><td>0.1078%</td></tr>, <tr><td>17</td><td><span><a href=\"/token/0xa4e8c3ec456107ea67d3075bf9e3df3a75823db0?a=0xd1e3f5e4cb07e89fd92005630fc41abb8c02b708\" target=\"_parent\">0xd1e3f5e4cb07e89fd92005630fc41abb8c02b708</a></span></td><td>10000000</td><td>0.1000%</td></tr>, <tr><td>18</td><td><span><a href=\"/token/0xa4e8c3ec456107ea67d3075bf9e3df3a75823db0?a=0x3af5afc0d013859f677a6f56471f41a26241065c\" target=\"_parent\">0x3af5afc0d013859f677a6f56471f41a26241065c</a></span></td><td>9820320</td><td>0.0982%</td></tr>, <tr><td>19</td><td><span><a href=\"/token/0xa4e8c3ec456107ea67d3075bf9e3df3a75823db0?a=0xaeedfe19c90d10c6d85914620aed7aca7e227296\" target=\"_parent\">0xaeedfe19c90d10c6d85914620aed7aca7e227296</a></span></td><td>8667043.3439</td><td>0.0867%</td></tr>, <tr><td>20</td><td><span><a href=\"/token/0xa4e8c3ec456107ea67d3075bf9e3df3a75823db0?a=0x094dad586ba14f8d4e51ee6cc18804373f3626ad\" target=\"_parent\">0x094dad586ba14f8d4e51ee6cc18804373f3626ad</a></span></td><td>8224321</td><td>0.0822%</td></tr>, <tr><td>21</td><td><span><a href=\"/token/0xa4e8c3ec456107ea67d3075bf9e3df3a75823db0?a=0xf1a0954c6bfc5361290f28351624340c3f9ed785\" target=\"_parent\">0xf1a0954c6bfc5361290f28351624340c3f9ed785</a></span></td><td>6250000</td><td>0.0625%</td></tr>, <tr><td>22</td><td><span><a href=\"/token/0xa4e8c3ec456107ea67d3075bf9e3df3a75823db0?a=0x2f8135762d15a01b0bdbe2d3ae82936780f23e52\" target=\"_parent\">0x2f8135762d15a01b0bdbe2d3ae82936780f23e52</a></span></td><td>6224321</td><td>0.0622%</td></tr>, <tr><td>23</td><td><span><a href=\"/token/0xa4e8c3ec456107ea67d3075bf9e3df3a75823db0?a=0xd9fbfab8de4f6c02d47c3a0a3cb4802639368bcc\" target=\"_parent\">0xd9fbfab8de4f6c02d47c3a0a3cb4802639368bcc</a></span></td><td>5000000</td><td>0.0500%</td></tr>, <tr><td>24</td><td><span><a href=\"/token/0xa4e8c3ec456107ea67d3075bf9e3df3a75823db0?a=0xac01158a83a9557eca559d877b817e463403bcef\" target=\"_parent\">0xac01158a83a9557eca559d877b817e463403bcef</a></span></td><td>5000000</td><td>0.0500%</td></tr>, <tr><td>25</td><td><span><a href=\"/token/0xa4e8c3ec456107ea67d3075bf9e3df3a75823db0?a=0x136ec07d56e234dbf3aa02c95a0efc46163691ef\" target=\"_parent\">0x136ec07d56e234dbf3aa02c95a0efc46163691ef</a></span></td><td>4592848.592</td><td>0.0459%</td></tr>, <tr><td>26</td><td><span><a href=\"/token/0xa4e8c3ec456107ea67d3075bf9e3df3a75823db0?a=0x6e93ebc8302890ff1d1befd779d1db131ef30d4d\" target=\"_parent\">0x6e93ebc8302890ff1d1befd779d1db131ef30d4d</a></span></td><td>4167127.89752388</td><td>0.0417%</td></tr>, <tr><td>27</td><td><span><a href=\"/token/0xa4e8c3ec456107ea67d3075bf9e3df3a75823db0?a=0x03fa7501727a410e15a70fbddb1c2e20cfc2cf70\" target=\"_parent\">0x03fa7501727a410e15a70fbddb1c2e20cfc2cf70</a></span></td><td>3858575</td><td>0.0386%</td></tr>, <tr><td>28</td><td><span><a href=\"/token/0xa4e8c3ec456107ea67d3075bf9e3df3a75823db0?a=0x3a66f626a442ff3728c2d4e94a0bc7747f020875\" target=\"_parent\">0x3a66f626a442ff3728c2d4e94a0bc7747f020875</a></span></td><td>3463083.8367</td><td>0.0346%</td></tr>, <tr><td>29</td><td><span><a href=\"/token/0xa4e8c3ec456107ea67d3075bf9e3df3a75823db0?a=0x1528d29c7681a139f266ec1f7c1e79454904da09\" target=\"_parent\">0x1528d29c7681a139f266ec1f7c1e79454904da09</a></span></td><td>3228996.58698965</td><td>0.0323%</td></tr>, <tr><td>30</td><td><span><a href=\"/token/0xa4e8c3ec456107ea67d3075bf9e3df3a75823db0?a=0x2c71439dd2b37e4ed4d2b6430f4a232c1b094b5d\" target=\"_parent\">0x2c71439dd2b37e4ed4d2b6430f4a232c1b094b5d</a></span></td><td>3050000</td><td>0.0305%</td></tr>, <tr><td>31</td><td><span><a href=\"/token/0xa4e8c3ec456107ea67d3075bf9e3df3a75823db0?a=0xca214150c6df8848b2488f33f2c35f2417265798\" target=\"_parent\">0xca214150c6df8848b2488f33f2c35f2417265798</a></span></td><td>3000000</td><td>0.0300%</td></tr>, <tr><td>32</td><td><span><a href=\"/token/0xa4e8c3ec456107ea67d3075bf9e3df3a75823db0?a=0x83ae51a80b34d5dc204e140faec27b7cbde6d020\" target=\"_parent\">0x83ae51a80b34d5dc204e140faec27b7cbde6d020</a></span></td><td>3000000</td><td>0.0300%</td></tr>, <tr><td>33</td><td><span><a href=\"/token/0xa4e8c3ec456107ea67d3075bf9e3df3a75823db0?a=0x053be2218a888ad0aec995d2273396ebb90a5666\" target=\"_parent\">0x053be2218a888ad0aec995d2273396ebb90a5666</a></span></td><td>2615570</td><td>0.0262%</td></tr>, <tr><td>34</td><td><span><a href=\"/token/0xa4e8c3ec456107ea67d3075bf9e3df3a75823db0?a=0xfd149928df0178c1c694dc43cca22d9e799ec123\" target=\"_parent\">0xfd149928df0178c1c694dc43cca22d9e799ec123</a></span></td><td>2479748</td><td>0.0248%</td></tr>, <tr><td>35</td><td><span><a href=\"/token/0xa4e8c3ec456107ea67d3075bf9e3df3a75823db0?a=0x564286362092d8e7936f0549571a803b203aaced\" target=\"_parent\">0x564286362092d8e7936f0549571a803b203aaced</a></span></td><td>2145769.62874001</td><td>0.0215%</td></tr>, <tr><td>36</td><td><span><a href=\"/token/0xa4e8c3ec456107ea67d3075bf9e3df3a75823db0?a=0xd139e238b0cf88a95d9b1311162b5310340b097f\" target=\"_parent\">0xd139e238b0cf88a95d9b1311162b5310340b097f</a></span></td><td>2107000</td><td>0.0211%</td></tr>, <tr><td>37</td><td><span><a href=\"/token/0xa4e8c3ec456107ea67d3075bf9e3df3a75823db0?a=0x7620fd9b67f62de89334c3ca58212c82260bc666\" target=\"_parent\">0x7620fd9b67f62de89334c3ca58212c82260bc666</a></span></td><td>2000001.4842</td><td>0.0200%</td></tr>, <tr><td>38</td><td><span><a href=\"/token/0xa4e8c3ec456107ea67d3075bf9e3df3a75823db0?a=0xa9a2e6455b22c06ae366e70ae607e39218b4fd3e\" target=\"_parent\">0xa9a2e6455b22c06ae366e70ae607e39218b4fd3e</a></span></td><td>2000000</td><td>0.0200%</td></tr>, <tr><td>39</td><td><span><a href=\"/token/0xa4e8c3ec456107ea67d3075bf9e3df3a75823db0?a=0x693b6f87d023aa7ff7e1cf0555edd6b6646122ea\" target=\"_parent\">0x693b6f87d023aa7ff7e1cf0555edd6b6646122ea</a></span></td><td>1984940</td><td>0.0198%</td></tr>, <tr><td>40</td><td><span><a href=\"/token/0xa4e8c3ec456107ea67d3075bf9e3df3a75823db0?a=0x613d4277a5d0f037f63508a0923356da270ca3b8\" target=\"_parent\">0x613d4277a5d0f037f63508a0923356da270ca3b8</a></span></td><td>1979940</td><td>0.0198%</td></tr>, <tr><td>41</td><td><span><a href=\"/token/0xa4e8c3ec456107ea67d3075bf9e3df3a75823db0?a=0xa3953352beab67861e5a7fff47f36611a1ff5335\" target=\"_parent\">0xa3953352beab67861e5a7fff47f36611a1ff5335</a></span></td><td>1942600</td><td>0.0194%</td></tr>, <tr><td>42</td><td><span><a href=\"/token/0xa4e8c3ec456107ea67d3075bf9e3df3a75823db0?a=0x7f218a12a44d7c003c3ed23962e9f68a09139c8d\" target=\"_parent\">0x7f218a12a44d7c003c3ed23962e9f68a09139c8d</a></span></td><td>1854692.38</td><td>0.0185%</td></tr>, <tr><td>43</td><td><span><a href=\"/token/0xa4e8c3ec456107ea67d3075bf9e3df3a75823db0?a=0x75ac73f0fa453f8a3a52eff8c654cb1e87c61ee6\" target=\"_parent\">0x75ac73f0fa453f8a3a52eff8c654cb1e87c61ee6</a></span></td><td>1842000.5</td><td>0.0184%</td></tr>, <tr><td>44</td><td><span><a href=\"/token/0xa4e8c3ec456107ea67d3075bf9e3df3a75823db0?a=0x30f3e2e5c18163a0ebf5d6041ece03c181a1503a\" target=\"_parent\">0x30f3e2e5c18163a0ebf5d6041ece03c181a1503a</a></span></td><td>1819647.77598965</td><td>0.0182%</td></tr>, <tr><td>45</td><td><span><a href=\"/token/0xa4e8c3ec456107ea67d3075bf9e3df3a75823db0?a=0xf0fc61e861d63f340990d7490c9601504a459e95\" target=\"_parent\">0xf0fc61e861d63f340990d7490c9601504a459e95</a></span></td><td>1812655.08698965</td><td>0.0181%</td></tr>, <tr><td>46</td><td><span><a href=\"/token/0xa4e8c3ec456107ea67d3075bf9e3df3a75823db0?a=0xcc588d802e82f778300cfa2badf1396c356e3c40\" target=\"_parent\">0xcc588d802e82f778300cfa2badf1396c356e3c40</a></span></td><td>1749661.32249148</td><td>0.0175%</td></tr>, <tr><td>47</td><td><span><a href=\"/token/0xa4e8c3ec456107ea67d3075bf9e3df3a75823db0?a=0x4d2da813ab05d888f10812d22611cd1b84f88a7e\" target=\"_parent\">0x4d2da813ab05d888f10812d22611cd1b84f88a7e</a></span></td><td>1575591.73</td><td>0.0158%</td></tr>, <tr><td>48</td><td><span><a href=\"/token/0xa4e8c3ec456107ea67d3075bf9e3df3a75823db0?a=0x7a72bf1e63d2eda17172dc920980f2a3650579cd\" target=\"_parent\">0x7a72bf1e63d2eda17172dc920980f2a3650579cd</a></span></td><td>1400000</td><td>0.0140%</td></tr>, <tr><td>49</td><td><span><a href=\"/token/0xa4e8c3ec456107ea67d3075bf9e3df3a75823db0?a=0xdc072753cbfba129f2a189c2c72b346b39cd971b\" target=\"_parent\">0xdc072753cbfba129f2a189c2c72b346b39cd971b</a></span></td><td>1312900</td><td>0.0131%</td></tr>, <tr><td>50</td><td><span><a href=\"/token/0xa4e8c3ec456107ea67d3075bf9e3df3a75823db0?a=0x0681d8db095565fe8a346fa0277bffde9c0edbbf\" target=\"_parent\">0x0681d8db095565fe8a346fa0277bffde9c0edbbf</a></span></td><td>1244025.93121004</td><td>0.0124%</td></tr>]\n"
     ]
    }
   ],
   "source": [
    "print(table)"
   ]
  },
  {
   "cell_type": "code",
   "execution_count": 27,
   "metadata": {},
   "outputs": [
    {
     "data": {
      "text/plain": [
       "[<tr>\n",
       " <th>Rank\n",
       " </th>\n",
       " <th>Address\n",
       " </th>\n",
       " <th>Quantity\n",
       " </th>\n",
       " <th>Percentage\n",
       " </th>\n",
       " </tr>,\n",
       " <tr><td>1</td><td><span><a href=\"/token/0xa4e8c3ec456107ea67d3075bf9e3df3a75823db0?a=0xff84ba8e8592eabc25fb99ba8775fa2a0e4c9cec\" target=\"_parent\">0xff84ba8e8592eabc25fb99ba8775fa2a0e4c9cec</a></span></td><td>244443479.53</td><td>2.4444%</td></tr>,\n",
       " <tr><td>2</td><td><span><a href=\"/token/0xa4e8c3ec456107ea67d3075bf9e3df3a75823db0?a=0xfe9e8709d3215310075d67e3ed32a380ccf451c8\" target=\"_parent\">0xfe9e8709d3215310075d67e3ed32a380ccf451c8</a></span></td><td>81574775.7055102</td><td>0.8157%</td></tr>,\n",
       " <tr><td>3</td><td><span><a href=\"/token/0xa4e8c3ec456107ea67d3075bf9e3df3a75823db0?a=0xc5597222eeb40cc40cdcb625b339c7510e36c07a\" target=\"_parent\">0xc5597222eeb40cc40cdcb625b339c7510e36c07a</a></span></td><td>46740306.6666667</td><td>0.4674%</td></tr>,\n",
       " <tr><td>4</td><td><span><a href=\"/token/0xa4e8c3ec456107ea67d3075bf9e3df3a75823db0?a=0x86c04656c895bc8462952736755c6e0de8edfeb7\" target=\"_parent\">0x86c04656c895bc8462952736755c6e0de8edfeb7</a></span></td><td>42775679</td><td>0.4278%</td></tr>,\n",
       " <tr><td>5</td><td><span><a href=\"/token/0xa4e8c3ec456107ea67d3075bf9e3df3a75823db0?a=0x90f52ef734a32527198c96fede841a08253d56ab\" target=\"_parent\">0x90f52ef734a32527198c96fede841a08253d56ab</a></span></td><td>42016015.6666667</td><td>0.4202%</td></tr>,\n",
       " <tr><td>6</td><td><span><a href=\"/token/0xa4e8c3ec456107ea67d3075bf9e3df3a75823db0?a=0x5317feae71d94e7b0fae527327e332f114c6e088\" target=\"_parent\">0x5317feae71d94e7b0fae527327e332f114c6e088</a></span></td><td>31250000</td><td>0.3125%</td></tr>,\n",
       " <tr><td>7</td><td><span><a href=\"/token/0xa4e8c3ec456107ea67d3075bf9e3df3a75823db0?a=0x0b5b734f911dd7506ab4cd735425b21b574d9fb8\" target=\"_parent\">0x0b5b734f911dd7506ab4cd735425b21b574d9fb8</a></span></td><td>31011213.795758</td><td>0.3101%</td></tr>,\n",
       " <tr><td>8</td><td><span><a href=\"/token/0xa4e8c3ec456107ea67d3075bf9e3df3a75823db0?a=0x001866ae5b3de6caa5a51543fd9fb64f524f5478\" target=\"_parent\">0x001866ae5b3de6caa5a51543fd9fb64f524f5478</a></span></td><td>30000000</td><td>0.3000%</td></tr>,\n",
       " <tr><td>9</td><td><span><a href=\"/token/0xa4e8c3ec456107ea67d3075bf9e3df3a75823db0?a=0x2b5634c42055806a59e9107ed44d43c426e58258\" target=\"_parent\">0x2b5634c42055806a59e9107ed44d43c426e58258</a></span></td><td>29029152.9474088</td><td>0.2903%</td></tr>,\n",
       " <tr><td>10</td><td><span><a href=\"/token/0xa4e8c3ec456107ea67d3075bf9e3df3a75823db0?a=0xe4768d4f06286b9693b4cfb64e38de16eb0a8920\" target=\"_parent\">0xe4768d4f06286b9693b4cfb64e38de16eb0a8920</a></span></td><td>25000000</td><td>0.2500%</td></tr>,\n",
       " <tr><td>11</td><td><span><a href=\"/token/0xa4e8c3ec456107ea67d3075bf9e3df3a75823db0?a=0x6624e6066f63bfcb453f608682b152e2cafd178c\" target=\"_parent\">0x6624e6066f63bfcb453f608682b152e2cafd178c</a></span></td><td>22261121.279753</td><td>0.2226%</td></tr>,\n",
       " <tr><td>12</td><td><span><a href=\"/token/0xa4e8c3ec456107ea67d3075bf9e3df3a75823db0?a=0x3f5ce5fbfe3e9af3971dd833d26ba9b5c936f0be\" target=\"_parent\">0x3f5ce5fbfe3e9af3971dd833d26ba9b5c936f0be</a></span></td><td>21997045.7445954</td><td>0.2200%</td></tr>,\n",
       " <tr><td>13</td><td><span><a href=\"/token/0xa4e8c3ec456107ea67d3075bf9e3df3a75823db0?a=0x855f76bc49b9b8e5fe94e32694e3894ccdaf0906\" target=\"_parent\">0x855f76bc49b9b8e5fe94e32694e3894ccdaf0906</a></span></td><td>19057702.9151139</td><td>0.1906%</td></tr>,\n",
       " <tr><td>14</td><td><span><a href=\"/token/0xa4e8c3ec456107ea67d3075bf9e3df3a75823db0?a=0x4b5c6931a80b0aaa649ddd6e12a1368a302d5694\" target=\"_parent\">0x4b5c6931a80b0aaa649ddd6e12a1368a302d5694</a></span></td><td>14404823</td><td>0.1440%</td></tr>,\n",
       " <tr><td>15</td><td><span><a href=\"/token/0xa4e8c3ec456107ea67d3075bf9e3df3a75823db0?a=0x333f738597fe25d0d395a8045318145b70c32027\" target=\"_parent\">0x333f738597fe25d0d395a8045318145b70c32027</a></span></td><td>12000000</td><td>0.1200%</td></tr>,\n",
       " <tr><td>16</td><td><span><a href=\"/token/0xa4e8c3ec456107ea67d3075bf9e3df3a75823db0?a=0x7681ae61f510293a2f62eb136aa801ab6aef9d99\" target=\"_parent\">0x7681ae61f510293a2f62eb136aa801ab6aef9d99</a></span></td><td>10779966.0221</td><td>0.1078%</td></tr>,\n",
       " <tr><td>17</td><td><span><a href=\"/token/0xa4e8c3ec456107ea67d3075bf9e3df3a75823db0?a=0xd1e3f5e4cb07e89fd92005630fc41abb8c02b708\" target=\"_parent\">0xd1e3f5e4cb07e89fd92005630fc41abb8c02b708</a></span></td><td>10000000</td><td>0.1000%</td></tr>,\n",
       " <tr><td>18</td><td><span><a href=\"/token/0xa4e8c3ec456107ea67d3075bf9e3df3a75823db0?a=0x3af5afc0d013859f677a6f56471f41a26241065c\" target=\"_parent\">0x3af5afc0d013859f677a6f56471f41a26241065c</a></span></td><td>9820320</td><td>0.0982%</td></tr>,\n",
       " <tr><td>19</td><td><span><a href=\"/token/0xa4e8c3ec456107ea67d3075bf9e3df3a75823db0?a=0xaeedfe19c90d10c6d85914620aed7aca7e227296\" target=\"_parent\">0xaeedfe19c90d10c6d85914620aed7aca7e227296</a></span></td><td>8667043.3439</td><td>0.0867%</td></tr>,\n",
       " <tr><td>20</td><td><span><a href=\"/token/0xa4e8c3ec456107ea67d3075bf9e3df3a75823db0?a=0x094dad586ba14f8d4e51ee6cc18804373f3626ad\" target=\"_parent\">0x094dad586ba14f8d4e51ee6cc18804373f3626ad</a></span></td><td>8224321</td><td>0.0822%</td></tr>,\n",
       " <tr><td>21</td><td><span><a href=\"/token/0xa4e8c3ec456107ea67d3075bf9e3df3a75823db0?a=0xf1a0954c6bfc5361290f28351624340c3f9ed785\" target=\"_parent\">0xf1a0954c6bfc5361290f28351624340c3f9ed785</a></span></td><td>6250000</td><td>0.0625%</td></tr>,\n",
       " <tr><td>22</td><td><span><a href=\"/token/0xa4e8c3ec456107ea67d3075bf9e3df3a75823db0?a=0x2f8135762d15a01b0bdbe2d3ae82936780f23e52\" target=\"_parent\">0x2f8135762d15a01b0bdbe2d3ae82936780f23e52</a></span></td><td>6224321</td><td>0.0622%</td></tr>,\n",
       " <tr><td>23</td><td><span><a href=\"/token/0xa4e8c3ec456107ea67d3075bf9e3df3a75823db0?a=0xd9fbfab8de4f6c02d47c3a0a3cb4802639368bcc\" target=\"_parent\">0xd9fbfab8de4f6c02d47c3a0a3cb4802639368bcc</a></span></td><td>5000000</td><td>0.0500%</td></tr>,\n",
       " <tr><td>24</td><td><span><a href=\"/token/0xa4e8c3ec456107ea67d3075bf9e3df3a75823db0?a=0xac01158a83a9557eca559d877b817e463403bcef\" target=\"_parent\">0xac01158a83a9557eca559d877b817e463403bcef</a></span></td><td>5000000</td><td>0.0500%</td></tr>,\n",
       " <tr><td>25</td><td><span><a href=\"/token/0xa4e8c3ec456107ea67d3075bf9e3df3a75823db0?a=0x136ec07d56e234dbf3aa02c95a0efc46163691ef\" target=\"_parent\">0x136ec07d56e234dbf3aa02c95a0efc46163691ef</a></span></td><td>4592848.592</td><td>0.0459%</td></tr>,\n",
       " <tr><td>26</td><td><span><a href=\"/token/0xa4e8c3ec456107ea67d3075bf9e3df3a75823db0?a=0x6e93ebc8302890ff1d1befd779d1db131ef30d4d\" target=\"_parent\">0x6e93ebc8302890ff1d1befd779d1db131ef30d4d</a></span></td><td>4167127.89752388</td><td>0.0417%</td></tr>,\n",
       " <tr><td>27</td><td><span><a href=\"/token/0xa4e8c3ec456107ea67d3075bf9e3df3a75823db0?a=0x03fa7501727a410e15a70fbddb1c2e20cfc2cf70\" target=\"_parent\">0x03fa7501727a410e15a70fbddb1c2e20cfc2cf70</a></span></td><td>3858575</td><td>0.0386%</td></tr>,\n",
       " <tr><td>28</td><td><span><a href=\"/token/0xa4e8c3ec456107ea67d3075bf9e3df3a75823db0?a=0x3a66f626a442ff3728c2d4e94a0bc7747f020875\" target=\"_parent\">0x3a66f626a442ff3728c2d4e94a0bc7747f020875</a></span></td><td>3463083.8367</td><td>0.0346%</td></tr>,\n",
       " <tr><td>29</td><td><span><a href=\"/token/0xa4e8c3ec456107ea67d3075bf9e3df3a75823db0?a=0x1528d29c7681a139f266ec1f7c1e79454904da09\" target=\"_parent\">0x1528d29c7681a139f266ec1f7c1e79454904da09</a></span></td><td>3228996.58698965</td><td>0.0323%</td></tr>,\n",
       " <tr><td>30</td><td><span><a href=\"/token/0xa4e8c3ec456107ea67d3075bf9e3df3a75823db0?a=0x2c71439dd2b37e4ed4d2b6430f4a232c1b094b5d\" target=\"_parent\">0x2c71439dd2b37e4ed4d2b6430f4a232c1b094b5d</a></span></td><td>3050000</td><td>0.0305%</td></tr>,\n",
       " <tr><td>31</td><td><span><a href=\"/token/0xa4e8c3ec456107ea67d3075bf9e3df3a75823db0?a=0xca214150c6df8848b2488f33f2c35f2417265798\" target=\"_parent\">0xca214150c6df8848b2488f33f2c35f2417265798</a></span></td><td>3000000</td><td>0.0300%</td></tr>,\n",
       " <tr><td>32</td><td><span><a href=\"/token/0xa4e8c3ec456107ea67d3075bf9e3df3a75823db0?a=0x83ae51a80b34d5dc204e140faec27b7cbde6d020\" target=\"_parent\">0x83ae51a80b34d5dc204e140faec27b7cbde6d020</a></span></td><td>3000000</td><td>0.0300%</td></tr>,\n",
       " <tr><td>33</td><td><span><a href=\"/token/0xa4e8c3ec456107ea67d3075bf9e3df3a75823db0?a=0x053be2218a888ad0aec995d2273396ebb90a5666\" target=\"_parent\">0x053be2218a888ad0aec995d2273396ebb90a5666</a></span></td><td>2615570</td><td>0.0262%</td></tr>,\n",
       " <tr><td>34</td><td><span><a href=\"/token/0xa4e8c3ec456107ea67d3075bf9e3df3a75823db0?a=0xfd149928df0178c1c694dc43cca22d9e799ec123\" target=\"_parent\">0xfd149928df0178c1c694dc43cca22d9e799ec123</a></span></td><td>2479748</td><td>0.0248%</td></tr>,\n",
       " <tr><td>35</td><td><span><a href=\"/token/0xa4e8c3ec456107ea67d3075bf9e3df3a75823db0?a=0x564286362092d8e7936f0549571a803b203aaced\" target=\"_parent\">0x564286362092d8e7936f0549571a803b203aaced</a></span></td><td>2145769.62874001</td><td>0.0215%</td></tr>,\n",
       " <tr><td>36</td><td><span><a href=\"/token/0xa4e8c3ec456107ea67d3075bf9e3df3a75823db0?a=0xd139e238b0cf88a95d9b1311162b5310340b097f\" target=\"_parent\">0xd139e238b0cf88a95d9b1311162b5310340b097f</a></span></td><td>2107000</td><td>0.0211%</td></tr>,\n",
       " <tr><td>37</td><td><span><a href=\"/token/0xa4e8c3ec456107ea67d3075bf9e3df3a75823db0?a=0x7620fd9b67f62de89334c3ca58212c82260bc666\" target=\"_parent\">0x7620fd9b67f62de89334c3ca58212c82260bc666</a></span></td><td>2000001.4842</td><td>0.0200%</td></tr>,\n",
       " <tr><td>38</td><td><span><a href=\"/token/0xa4e8c3ec456107ea67d3075bf9e3df3a75823db0?a=0xa9a2e6455b22c06ae366e70ae607e39218b4fd3e\" target=\"_parent\">0xa9a2e6455b22c06ae366e70ae607e39218b4fd3e</a></span></td><td>2000000</td><td>0.0200%</td></tr>,\n",
       " <tr><td>39</td><td><span><a href=\"/token/0xa4e8c3ec456107ea67d3075bf9e3df3a75823db0?a=0x693b6f87d023aa7ff7e1cf0555edd6b6646122ea\" target=\"_parent\">0x693b6f87d023aa7ff7e1cf0555edd6b6646122ea</a></span></td><td>1984940</td><td>0.0198%</td></tr>,\n",
       " <tr><td>40</td><td><span><a href=\"/token/0xa4e8c3ec456107ea67d3075bf9e3df3a75823db0?a=0x613d4277a5d0f037f63508a0923356da270ca3b8\" target=\"_parent\">0x613d4277a5d0f037f63508a0923356da270ca3b8</a></span></td><td>1979940</td><td>0.0198%</td></tr>,\n",
       " <tr><td>41</td><td><span><a href=\"/token/0xa4e8c3ec456107ea67d3075bf9e3df3a75823db0?a=0xa3953352beab67861e5a7fff47f36611a1ff5335\" target=\"_parent\">0xa3953352beab67861e5a7fff47f36611a1ff5335</a></span></td><td>1942600</td><td>0.0194%</td></tr>,\n",
       " <tr><td>42</td><td><span><a href=\"/token/0xa4e8c3ec456107ea67d3075bf9e3df3a75823db0?a=0x7f218a12a44d7c003c3ed23962e9f68a09139c8d\" target=\"_parent\">0x7f218a12a44d7c003c3ed23962e9f68a09139c8d</a></span></td><td>1854692.38</td><td>0.0185%</td></tr>,\n",
       " <tr><td>43</td><td><span><a href=\"/token/0xa4e8c3ec456107ea67d3075bf9e3df3a75823db0?a=0x75ac73f0fa453f8a3a52eff8c654cb1e87c61ee6\" target=\"_parent\">0x75ac73f0fa453f8a3a52eff8c654cb1e87c61ee6</a></span></td><td>1842000.5</td><td>0.0184%</td></tr>,\n",
       " <tr><td>44</td><td><span><a href=\"/token/0xa4e8c3ec456107ea67d3075bf9e3df3a75823db0?a=0x30f3e2e5c18163a0ebf5d6041ece03c181a1503a\" target=\"_parent\">0x30f3e2e5c18163a0ebf5d6041ece03c181a1503a</a></span></td><td>1819647.77598965</td><td>0.0182%</td></tr>,\n",
       " <tr><td>45</td><td><span><a href=\"/token/0xa4e8c3ec456107ea67d3075bf9e3df3a75823db0?a=0xf0fc61e861d63f340990d7490c9601504a459e95\" target=\"_parent\">0xf0fc61e861d63f340990d7490c9601504a459e95</a></span></td><td>1812655.08698965</td><td>0.0181%</td></tr>,\n",
       " <tr><td>46</td><td><span><a href=\"/token/0xa4e8c3ec456107ea67d3075bf9e3df3a75823db0?a=0xcc588d802e82f778300cfa2badf1396c356e3c40\" target=\"_parent\">0xcc588d802e82f778300cfa2badf1396c356e3c40</a></span></td><td>1749661.32249148</td><td>0.0175%</td></tr>,\n",
       " <tr><td>47</td><td><span><a href=\"/token/0xa4e8c3ec456107ea67d3075bf9e3df3a75823db0?a=0x4d2da813ab05d888f10812d22611cd1b84f88a7e\" target=\"_parent\">0x4d2da813ab05d888f10812d22611cd1b84f88a7e</a></span></td><td>1575591.73</td><td>0.0158%</td></tr>,\n",
       " <tr><td>48</td><td><span><a href=\"/token/0xa4e8c3ec456107ea67d3075bf9e3df3a75823db0?a=0x7a72bf1e63d2eda17172dc920980f2a3650579cd\" target=\"_parent\">0x7a72bf1e63d2eda17172dc920980f2a3650579cd</a></span></td><td>1400000</td><td>0.0140%</td></tr>,\n",
       " <tr><td>49</td><td><span><a href=\"/token/0xa4e8c3ec456107ea67d3075bf9e3df3a75823db0?a=0xdc072753cbfba129f2a189c2c72b346b39cd971b\" target=\"_parent\">0xdc072753cbfba129f2a189c2c72b346b39cd971b</a></span></td><td>1312900</td><td>0.0131%</td></tr>,\n",
       " <tr><td>50</td><td><span><a href=\"/token/0xa4e8c3ec456107ea67d3075bf9e3df3a75823db0?a=0x0681d8db095565fe8a346fa0277bffde9c0edbbf\" target=\"_parent\">0x0681d8db095565fe8a346fa0277bffde9c0edbbf</a></span></td><td>1244025.93121004</td><td>0.0124%</td></tr>]"
      ]
     },
     "execution_count": 27,
     "metadata": {},
     "output_type": "execute_result"
    }
   ],
   "source": [
    "[item for item in list(table)]"
   ]
  },
  {
   "cell_type": "code",
   "execution_count": 28,
   "metadata": {},
   "outputs": [
    {
     "data": {
      "text/plain": [
       "bs4.element.ResultSet"
      ]
     },
     "execution_count": 28,
     "metadata": {},
     "output_type": "execute_result"
    }
   ],
   "source": [
    "type(table)"
   ]
  },
  {
   "cell_type": "code",
   "execution_count": 31,
   "metadata": {},
   "outputs": [
    {
     "data": {
      "text/plain": [
       "<tr>\n",
       "<th>Rank\n",
       "</th>\n",
       "<th>Address\n",
       "</th>\n",
       "<th>Quantity\n",
       "</th>\n",
       "<th>Percentage\n",
       "</th>\n",
       "</tr>"
      ]
     },
     "execution_count": 31,
     "metadata": {},
     "output_type": "execute_result"
    }
   ],
   "source": [
    "table[0]"
   ]
  },
  {
   "cell_type": "code",
   "execution_count": 34,
   "metadata": {},
   "outputs": [],
   "source": [
    "for i in table:\n",
    "    i.get_text()"
   ]
  },
  {
   "cell_type": "code",
   "execution_count": null,
   "metadata": {
    "collapsed": true
   },
   "outputs": [],
   "source": []
  },
  {
   "cell_type": "code",
   "execution_count": null,
   "metadata": {
    "collapsed": true
   },
   "outputs": [],
   "source": []
  },
  {
   "cell_type": "code",
   "execution_count": null,
   "metadata": {
    "collapsed": true
   },
   "outputs": [],
   "source": []
  },
  {
   "cell_type": "code",
   "execution_count": null,
   "metadata": {
    "collapsed": true
   },
   "outputs": [],
   "source": []
  },
  {
   "cell_type": "code",
   "execution_count": null,
   "metadata": {
    "collapsed": true
   },
   "outputs": [],
   "source": []
  },
  {
   "cell_type": "code",
   "execution_count": null,
   "metadata": {
    "collapsed": true
   },
   "outputs": [],
   "source": []
  },
  {
   "cell_type": "code",
   "execution_count": null,
   "metadata": {
    "collapsed": true
   },
   "outputs": [],
   "source": []
  },
  {
   "cell_type": "code",
   "execution_count": 23,
   "metadata": {},
   "outputs": [
    {
     "data": {
      "text/plain": [
       "bs4.element.ResultSet"
      ]
     },
     "execution_count": 23,
     "metadata": {},
     "output_type": "execute_result"
    }
   ],
   "source": [
    "type(table)\n"
   ]
  },
  {
   "cell_type": "code",
   "execution_count": null,
   "metadata": {
    "collapsed": true
   },
   "outputs": [],
   "source": []
  },
  {
   "cell_type": "code",
   "execution_count": 22,
   "metadata": {},
   "outputs": [
    {
     "data": {
      "text/plain": [
       "bs4.BeautifulSoup"
      ]
     },
     "execution_count": 22,
     "metadata": {},
     "output_type": "execute_result"
    }
   ],
   "source": [
    "type(soup)"
   ]
  },
  {
   "cell_type": "code",
   "execution_count": null,
   "metadata": {
    "collapsed": true
   },
   "outputs": [],
   "source": []
  },
  {
   "cell_type": "code",
   "execution_count": null,
   "metadata": {
    "collapsed": true
   },
   "outputs": [],
   "source": []
  },
  {
   "cell_type": "code",
   "execution_count": null,
   "metadata": {
    "collapsed": true
   },
   "outputs": [],
   "source": [
    "table."
   ]
  },
  {
   "cell_type": "code",
   "execution_count": null,
   "metadata": {
    "collapsed": true
   },
   "outputs": [],
   "source": []
  },
  {
   "cell_type": "code",
   "execution_count": null,
   "metadata": {
    "collapsed": true
   },
   "outputs": [],
   "source": []
  },
  {
   "cell_type": "code",
   "execution_count": null,
   "metadata": {
    "collapsed": true
   },
   "outputs": [],
   "source": []
  },
  {
   "cell_type": "code",
   "execution_count": null,
   "metadata": {
    "collapsed": true
   },
   "outputs": [],
   "source": []
  },
  {
   "cell_type": "code",
   "execution_count": 12,
   "metadata": {},
   "outputs": [
    {
     "ename": "AttributeError",
     "evalue": "'str' object has no attribute 'content'",
     "output_type": "error",
     "traceback": [
      "\u001b[0;31m---------------------------------------------------------------------------\u001b[0m",
      "\u001b[0;31mAttributeError\u001b[0m                            Traceback (most recent call last)",
      "\u001b[0;32m<ipython-input-12-1afb4018bac5>\u001b[0m in \u001b[0;36m<module>\u001b[0;34m()\u001b[0m\n\u001b[1;32m      1\u001b[0m \u001b[0;32mfrom\u001b[0m \u001b[0mbs4\u001b[0m \u001b[0;32mimport\u001b[0m \u001b[0mBeautifulSoup\u001b[0m\u001b[0;34m\u001b[0m\u001b[0m\n\u001b[0;32m----> 2\u001b[0;31m \u001b[0msoup\u001b[0m \u001b[0;34m=\u001b[0m \u001b[0mBeautifulSoup\u001b[0m\u001b[0;34m(\u001b[0m\u001b[0mpage\u001b[0m\u001b[0;34m.\u001b[0m\u001b[0mcontent\u001b[0m\u001b[0;34m,\u001b[0m \u001b[0;34m'html.parser'\u001b[0m\u001b[0;34m)\u001b[0m\u001b[0;34m\u001b[0m\u001b[0m\n\u001b[0m",
      "\u001b[0;31mAttributeError\u001b[0m: 'str' object has no attribute 'content'"
     ]
    }
   ],
   "source": []
  },
  {
   "cell_type": "code",
   "execution_count": null,
   "metadata": {
    "collapsed": true
   },
   "outputs": [],
   "source": []
  },
  {
   "cell_type": "code",
   "execution_count": null,
   "metadata": {
    "collapsed": true
   },
   "outputs": [],
   "source": []
  },
  {
   "cell_type": "code",
   "execution_count": null,
   "metadata": {
    "collapsed": true
   },
   "outputs": [],
   "source": []
  },
  {
   "cell_type": "code",
   "execution_count": null,
   "metadata": {
    "collapsed": true
   },
   "outputs": [],
   "source": []
  },
  {
   "cell_type": "code",
   "execution_count": null,
   "metadata": {
    "collapsed": true
   },
   "outputs": [],
   "source": []
  },
  {
   "cell_type": "code",
   "execution_count": null,
   "metadata": {
    "collapsed": true
   },
   "outputs": [],
   "source": []
  },
  {
   "cell_type": "code",
   "execution_count": null,
   "metadata": {
    "collapsed": true
   },
   "outputs": [],
   "source": []
  },
  {
   "cell_type": "code",
   "execution_count": null,
   "metadata": {
    "collapsed": true
   },
   "outputs": [],
   "source": []
  },
  {
   "cell_type": "code",
   "execution_count": null,
   "metadata": {
    "collapsed": true
   },
   "outputs": [],
   "source": []
  },
  {
   "cell_type": "code",
   "execution_count": null,
   "metadata": {
    "collapsed": true
   },
   "outputs": [],
   "source": []
  },
  {
   "cell_type": "code",
   "execution_count": null,
   "metadata": {
    "collapsed": true
   },
   "outputs": [],
   "source": []
  }
 ],
 "metadata": {
  "kernelspec": {
   "display_name": "Python 3",
   "language": "python",
   "name": "python3"
  },
  "language_info": {
   "codemirror_mode": {
    "name": "ipython",
    "version": 3
   },
   "file_extension": ".py",
   "mimetype": "text/x-python",
   "name": "python",
   "nbconvert_exporter": "python",
   "pygments_lexer": "ipython3",
   "version": "3.6.3"
  }
 },
 "nbformat": 4,
 "nbformat_minor": 2
}
